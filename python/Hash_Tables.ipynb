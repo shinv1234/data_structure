{
 "cells": [
  {
   "cell_type": "code",
   "execution_count": 1,
   "metadata": {
    "collapsed": false
   },
   "outputs": [],
   "source": [
    "class HashTable(object):\n",
    "    def __init__(self, slots=10):\n",
    "        self.slots = slots\n",
    "        self.table = []\n",
    "        self.create_table()\n",
    "        \n",
    "    def hash_key(self, value):\n",
    "        return hash(value)%self.slots # ex 442 mod 10\n",
    "    \n",
    "    def create_table(self):\n",
    "        for i in range(self.slots):\n",
    "            self.table.append([])\n",
    "    \n",
    "    def add_item(self, value):\n",
    "        key = self.hash_key(value)\n",
    "        self.table[key].append(value)\n",
    "        \n",
    "    def print_table(self):\n",
    "        for key in range(len(self.table)):\n",
    "            print(\"Key is %s, value is %s.\" %(key, self.table[key]))\n",
    "            \n",
    "    def find_item(self, item):\n",
    "        pos = self.hash_key(item)\n",
    "        if item in self.table[pos]:\n",
    "            return True\n",
    "        else:\n",
    "            return False\n",
    "        \n",
    "    def delete_item(self, item):\n",
    "        pos = self.hash_key(item)\n",
    "        if item in self.table[pos]:\n",
    "            item_idx = self.table[pos].index(item)\n",
    "            del self.table[pos][item_idx]\n",
    "\n",
    "    def delete_items(self, item):\n",
    "        pos = self.hash_key(item)\n",
    "        if item in self.table[pos]:\n",
    "            while True:\n",
    "                try:\n",
    "                    item_idx = self.table[pos].index(item)\n",
    "                    del self.table[pos][item_idx]\n",
    "                except:\n",
    "                    break\n",
    "            "
   ]
  },
  {
   "cell_type": "code",
   "execution_count": null,
   "metadata": {
    "collapsed": true
   },
   "outputs": [],
   "source": []
  },
  {
   "cell_type": "code",
   "execution_count": 2,
   "metadata": {
    "collapsed": true
   },
   "outputs": [],
   "source": [
    "dic = HashTable(5)"
   ]
  },
  {
   "cell_type": "code",
   "execution_count": 3,
   "metadata": {
    "collapsed": false
   },
   "outputs": [],
   "source": [
    "for i in [3, 4, 66, 8, 5, 4, 4, 13, 4,67, 7, 9, 14]:\n",
    "    dic.add_item(i)"
   ]
  },
  {
   "cell_type": "code",
   "execution_count": 4,
   "metadata": {
    "collapsed": false
   },
   "outputs": [
    {
     "name": "stdout",
     "output_type": "stream",
     "text": [
      "Key is 0, value is [5].\n",
      "Key is 1, value is [66].\n",
      "Key is 2, value is [67, 7].\n",
      "Key is 3, value is [3, 8, 13].\n",
      "Key is 4, value is [4, 4, 4, 4, 9, 14].\n"
     ]
    }
   ],
   "source": [
    "dic.print_table()"
   ]
  },
  {
   "cell_type": "code",
   "execution_count": 5,
   "metadata": {
    "collapsed": true
   },
   "outputs": [],
   "source": [
    "dic.delete_item(4)"
   ]
  },
  {
   "cell_type": "code",
   "execution_count": 6,
   "metadata": {
    "collapsed": false
   },
   "outputs": [
    {
     "name": "stdout",
     "output_type": "stream",
     "text": [
      "Key is 0, value is [5].\n",
      "Key is 1, value is [66].\n",
      "Key is 2, value is [67, 7].\n",
      "Key is 3, value is [3, 8, 13].\n",
      "Key is 4, value is [4, 4, 4, 9, 14].\n"
     ]
    }
   ],
   "source": [
    "dic.print_table()"
   ]
  },
  {
   "cell_type": "code",
   "execution_count": 7,
   "metadata": {
    "collapsed": true
   },
   "outputs": [],
   "source": [
    "dic.delete_items(4)"
   ]
  },
  {
   "cell_type": "code",
   "execution_count": 8,
   "metadata": {
    "collapsed": false
   },
   "outputs": [
    {
     "name": "stdout",
     "output_type": "stream",
     "text": [
      "Key is 0, value is [5].\n",
      "Key is 1, value is [66].\n",
      "Key is 2, value is [67, 7].\n",
      "Key is 3, value is [3, 8, 13].\n",
      "Key is 4, value is [9, 14].\n"
     ]
    }
   ],
   "source": [
    "dic.print_table()"
   ]
  },
  {
   "cell_type": "code",
   "execution_count": null,
   "metadata": {
    "collapsed": true
   },
   "outputs": [],
   "source": []
  },
  {
   "cell_type": "code",
   "execution_count": null,
   "metadata": {
    "collapsed": true
   },
   "outputs": [],
   "source": []
  },
  {
   "cell_type": "code",
   "execution_count": null,
   "metadata": {
    "collapsed": true
   },
   "outputs": [],
   "source": []
  },
  {
   "cell_type": "code",
   "execution_count": null,
   "metadata": {
    "collapsed": true
   },
   "outputs": [],
   "source": []
  }
 ],
 "metadata": {
  "kernelspec": {
   "display_name": "Python 3",
   "language": "python",
   "name": "python3"
  },
  "language_info": {
   "codemirror_mode": {
    "name": "ipython",
    "version": 3
   },
   "file_extension": ".py",
   "mimetype": "text/x-python",
   "name": "python",
   "nbconvert_exporter": "python",
   "pygments_lexer": "ipython3",
   "version": "3.6.0"
  }
 },
 "nbformat": 4,
 "nbformat_minor": 2
}
